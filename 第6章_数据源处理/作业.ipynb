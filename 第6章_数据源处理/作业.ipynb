{
 "cells": [
  {
   "cell_type": "markdown",
   "id": "c14ca121-9c7f-4ae9-a8b7-ca137111e47b",
   "metadata": {},
   "source": [
    "# 作业"
   ]
  },
  {
   "cell_type": "markdown",
   "id": "653c4670-bfcb-4955-b65a-e5adfc349150",
   "metadata": {},
   "source": [
    "## 1. 获取金融数据集（2分+2分+1分=5分）\n",
    "通过以下步骤寻找和下载金融相关的数据集：\n",
    "1. 寻找和金融相关的数据集\n",
    "2. 提供数据集的来源，描述，以及应用场景\n",
    "3. 下载数据集为CSV格式文件"
   ]
  },
  {
   "cell_type": "markdown",
   "id": "56a75684-8900-4cfa-a6b1-5afd738030ac",
   "metadata": {},
   "source": []
  },
  {
   "cell_type": "markdown",
   "id": "dd854cff-adce-4adb-bd33-27cbb912975c",
   "metadata": {},
   "source": [
    "## 2.数据预处理（1分+1分+1分+2分=5分，附加题2分）"
   ]
  },
  {
   "cell_type": "markdown",
   "id": "dff005e0-28de-4646-8ca4-b0b4e908285e",
   "metadata": {},
   "source": [
    "对上述得到的数据进行预处理：\n",
    "1. 检查是否有重复样本(行)，如果有，去重\n",
    "2. 检查是否有缺失值，如果有，填补缺失值\n",
    "3. 检查是否有异常值，如果有，修正异常值或者删除样本（行）\n",
    "4. 检查是否需要哑变量处理，如果有，使用0和1表示字符型特征。\n",
    "5. 附加题：将采集的评价数从字符串改成数值。\n",
    "\n",
    "如果数据集无法进行以上的预处理，例如同时不满足1、2、3、4，请更换数据集，如果其中1个不满足，可以继续。"
   ]
  },
  {
   "cell_type": "code",
   "execution_count": null,
   "id": "8b87cef3-65ee-43bb-910a-75c4796af3ae",
   "metadata": {},
   "outputs": [],
   "source": []
  }
 ],
 "metadata": {
  "kernelspec": {
   "display_name": "Python 3 (ipykernel)",
   "language": "python",
   "name": "python3"
  },
  "language_info": {
   "codemirror_mode": {
    "name": "ipython",
    "version": 3
   },
   "file_extension": ".py",
   "mimetype": "text/x-python",
   "name": "python",
   "nbconvert_exporter": "python",
   "pygments_lexer": "ipython3",
   "version": "3.9.13"
  }
 },
 "nbformat": 4,
 "nbformat_minor": 5
}
