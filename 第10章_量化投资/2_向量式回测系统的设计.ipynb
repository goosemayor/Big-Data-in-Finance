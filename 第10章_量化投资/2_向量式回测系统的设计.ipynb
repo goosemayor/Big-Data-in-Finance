{
 "cells": [
  {
   "cell_type": "markdown",
   "id": "caa43050-8e9b-4bca-8c94-5e3cf39ce8db",
   "metadata": {},
   "source": [
    "# 向量化回测系统（Vectorised Backtester）的设计"
   ]
  },
  {
   "cell_type": "markdown",
   "id": "337e9fbd-4470-44a2-b490-5717d334fd96",
   "metadata": {},
   "source": [
    "本节提供了一个实用的向量化回测框架，它提供了回测的基本思路，该框架被业界已被普遍证明是有效和可实施的。\n",
    "\n",
    "![backtester.png](images/backtester.png)\n",
    "\n",
    "回测系统的应该包含两个主要部分：\n",
    "1. 要交易的市场和标的物，回测的时间范围，交易频率，交易成本，交易方法，以及对于策略的评估等等。\n",
    "2. 策略，即策略师关于如何交易的代码。\n",
    "\n",
    "当具体得设计一个回测系统时，可以分成以下几个部分。"
   ]
  },
  {
   "cell_type": "markdown",
   "id": "fd7b6619-dac2-4ac3-a70a-b299ab96114e",
   "metadata": {},
   "source": [
    "## 1. 资产池"
   ]
  },
  {
   "cell_type": "markdown",
   "id": "4e10fb09-6a33-4dbb-9551-5d69bf2da94a",
   "metadata": {},
   "source": [
    "投资股票池为可以投资的标的证券范围，即我们准备使用哪些股票来进行投资。例如，A50指数作为国内我们在[上交所网站](http://www.sse.com.cn/home/index.shtml)上，检索A50指数成分股。\n",
    "> 上海证券市场规模大、流动性好的最具代表性的50只股票组成样本股，以便综合反映上海证券市场最具市场影响力的一批龙头企业的整体状况。上证50指数自2004年1月2日起正式发布。其目标是建立一个成交活跃、规模较大、主要作为衍生金融工具基础的投资指数。——上交所"
   ]
  },
  {
   "cell_type": "code",
   "execution_count": 2,
   "id": "3120ae45-32fb-4e16-83d0-e09129efa534",
   "metadata": {},
   "outputs": [],
   "source": [
    "ticker = {'浦发银行':'600000', '上海机场':'600009', '民生银行':'600016',\n",
    "            '中国石化':'600028', '中信证券':'600030', '三一重工':'600031',\n",
    "            '招商银行':'600036', '保利地产':'600048', '中国联通':'600050',\n",
    "            '上汽集团':'600104', '复星医药':'600196', '恒瑞医药':'600276',\n",
    "            '万华化学':'600309', '通威股份':'600438', '贵州茅台':'600519',\n",
    "            '山东黄金':'600547', '恒生电子':'600570', '海螺水泥':'600585',\n",
    "            '用友网络':'600588', '海尔智家':'600690', '三安光电':'600703',\n",
    "            '闻泰科技':'600745', '山西汾酒':'600809', '海通证券':'600837',\n",
    "            '伊利股份':'600887', '航发动力':'600893', '中泰证券':'600918',\n",
    "            '隆基股份':'601012', '中信建投':'601066', '中国神华':'601088',\n",
    "            '工业富联':'601138', '兴业银行':'601166', '国泰君安':'601211',\n",
    "            '农业银行':'601288', '中国平安':'601318', '新华保险':'601336',\n",
    "            '工商银行':'601398', '中国太保':'601601', '中国人寿':'601628',\n",
    "            '中国建筑':'601668', '华泰证券':'601688', '光大银行':'601818',\n",
    "            '中国石油':'601857', '中国中免':'601888', '紫金矿业':'601899',\n",
    "            '中金公司':'601995', '药明康德':'603259', '海天味业':'603288',\n",
    "            '韦尔股份':'603501', '兆易创新':'603986'}"
   ]
  },
  {
   "cell_type": "markdown",
   "id": "5df3e8c2-08c5-4103-ac6a-e6a717c3c07d",
   "metadata": {},
   "source": [
    "定义完股票池后，我们可以开始收集、整理和截取数据："
   ]
  },
  {
   "cell_type": "code",
   "execution_count": 2,
   "id": "dd55ffb1-ab2c-4e7e-b9f0-a4fb6bd7ed7b",
   "metadata": {
    "collapsed": true,
    "jupyter": {
     "outputs_hidden": true
    },
    "tags": []
   },
   "outputs": [
    {
     "name": "stdout",
     "output_type": "stream",
     "text": [
      "本接口即将停止更新，请尽快使用Pro版接口：https://tushare.pro/document/2\n"
     ]
    },
    {
     "name": "stderr",
     "output_type": "stream",
     "text": [
      "/Users/hans/opt/anaconda3/lib/python3.9/site-packages/tushare/stock/trading.py:706: FutureWarning: The frame.append method is deprecated and will be removed from pandas in a future version. Use pandas.concat instead.\n",
      "  data = data.append(_get_k_data(url, dataflag,\n",
      "/Users/hans/opt/anaconda3/lib/python3.9/site-packages/tushare/stock/trading.py:706: FutureWarning: The frame.append method is deprecated and will be removed from pandas in a future version. Use pandas.concat instead.\n",
      "  data = data.append(_get_k_data(url, dataflag,\n",
      "/Users/hans/opt/anaconda3/lib/python3.9/site-packages/tushare/stock/trading.py:706: FutureWarning: The frame.append method is deprecated and will be removed from pandas in a future version. Use pandas.concat instead.\n",
      "  data = data.append(_get_k_data(url, dataflag,\n",
      "/Users/hans/opt/anaconda3/lib/python3.9/site-packages/tushare/stock/trading.py:706: FutureWarning: The frame.append method is deprecated and will be removed from pandas in a future version. Use pandas.concat instead.\n",
      "  data = data.append(_get_k_data(url, dataflag,\n",
      "/Users/hans/opt/anaconda3/lib/python3.9/site-packages/tushare/stock/trading.py:706: FutureWarning: The frame.append method is deprecated and will be removed from pandas in a future version. Use pandas.concat instead.\n",
      "  data = data.append(_get_k_data(url, dataflag,\n",
      "/Users/hans/opt/anaconda3/lib/python3.9/site-packages/tushare/stock/trading.py:706: FutureWarning: The frame.append method is deprecated and will be removed from pandas in a future version. Use pandas.concat instead.\n",
      "  data = data.append(_get_k_data(url, dataflag,\n",
      "/Users/hans/opt/anaconda3/lib/python3.9/site-packages/tushare/stock/trading.py:706: FutureWarning: The frame.append method is deprecated and will be removed from pandas in a future version. Use pandas.concat instead.\n",
      "  data = data.append(_get_k_data(url, dataflag,\n",
      "/Users/hans/opt/anaconda3/lib/python3.9/site-packages/tushare/stock/trading.py:706: FutureWarning: The frame.append method is deprecated and will be removed from pandas in a future version. Use pandas.concat instead.\n",
      "  data = data.append(_get_k_data(url, dataflag,\n",
      "/Users/hans/opt/anaconda3/lib/python3.9/site-packages/tushare/stock/trading.py:706: FutureWarning: The frame.append method is deprecated and will be removed from pandas in a future version. Use pandas.concat instead.\n",
      "  data = data.append(_get_k_data(url, dataflag,\n",
      "/Users/hans/opt/anaconda3/lib/python3.9/site-packages/tushare/stock/trading.py:706: FutureWarning: The frame.append method is deprecated and will be removed from pandas in a future version. Use pandas.concat instead.\n",
      "  data = data.append(_get_k_data(url, dataflag,\n",
      "/Users/hans/opt/anaconda3/lib/python3.9/site-packages/tushare/stock/trading.py:706: FutureWarning: The frame.append method is deprecated and will be removed from pandas in a future version. Use pandas.concat instead.\n",
      "  data = data.append(_get_k_data(url, dataflag,\n"
     ]
    },
    {
     "name": "stdout",
     "output_type": "stream",
     "text": [
      "本接口即将停止更新，请尽快使用Pro版接口：https://tushare.pro/document/2\n"
     ]
    },
    {
     "name": "stderr",
     "output_type": "stream",
     "text": [
      "/Users/hans/opt/anaconda3/lib/python3.9/site-packages/tushare/stock/trading.py:706: FutureWarning: The frame.append method is deprecated and will be removed from pandas in a future version. Use pandas.concat instead.\n",
      "  data = data.append(_get_k_data(url, dataflag,\n",
      "/Users/hans/opt/anaconda3/lib/python3.9/site-packages/tushare/stock/trading.py:706: FutureWarning: The frame.append method is deprecated and will be removed from pandas in a future version. Use pandas.concat instead.\n",
      "  data = data.append(_get_k_data(url, dataflag,\n",
      "/Users/hans/opt/anaconda3/lib/python3.9/site-packages/tushare/stock/trading.py:706: FutureWarning: The frame.append method is deprecated and will be removed from pandas in a future version. Use pandas.concat instead.\n",
      "  data = data.append(_get_k_data(url, dataflag,\n",
      "/Users/hans/opt/anaconda3/lib/python3.9/site-packages/tushare/stock/trading.py:706: FutureWarning: The frame.append method is deprecated and will be removed from pandas in a future version. Use pandas.concat instead.\n",
      "  data = data.append(_get_k_data(url, dataflag,\n",
      "/Users/hans/opt/anaconda3/lib/python3.9/site-packages/tushare/stock/trading.py:706: FutureWarning: The frame.append method is deprecated and will be removed from pandas in a future version. Use pandas.concat instead.\n",
      "  data = data.append(_get_k_data(url, dataflag,\n",
      "/Users/hans/opt/anaconda3/lib/python3.9/site-packages/tushare/stock/trading.py:706: FutureWarning: The frame.append method is deprecated and will be removed from pandas in a future version. Use pandas.concat instead.\n",
      "  data = data.append(_get_k_data(url, dataflag,\n",
      "/Users/hans/opt/anaconda3/lib/python3.9/site-packages/tushare/stock/trading.py:706: FutureWarning: The frame.append method is deprecated and will be removed from pandas in a future version. Use pandas.concat instead.\n",
      "  data = data.append(_get_k_data(url, dataflag,\n",
      "/Users/hans/opt/anaconda3/lib/python3.9/site-packages/tushare/stock/trading.py:706: FutureWarning: The frame.append method is deprecated and will be removed from pandas in a future version. Use pandas.concat instead.\n",
      "  data = data.append(_get_k_data(url, dataflag,\n",
      "/Users/hans/opt/anaconda3/lib/python3.9/site-packages/tushare/stock/trading.py:706: FutureWarning: The frame.append method is deprecated and will be removed from pandas in a future version. Use pandas.concat instead.\n",
      "  data = data.append(_get_k_data(url, dataflag,\n",
      "/Users/hans/opt/anaconda3/lib/python3.9/site-packages/tushare/stock/trading.py:706: FutureWarning: The frame.append method is deprecated and will be removed from pandas in a future version. Use pandas.concat instead.\n",
      "  data = data.append(_get_k_data(url, dataflag,\n",
      "/Users/hans/opt/anaconda3/lib/python3.9/site-packages/tushare/stock/trading.py:706: FutureWarning: The frame.append method is deprecated and will be removed from pandas in a future version. Use pandas.concat instead.\n",
      "  data = data.append(_get_k_data(url, dataflag,\n"
     ]
    },
    {
     "name": "stdout",
     "output_type": "stream",
     "text": [
      "本接口即将停止更新，请尽快使用Pro版接口：https://tushare.pro/document/2\n"
     ]
    },
    {
     "name": "stderr",
     "output_type": "stream",
     "text": [
      "/Users/hans/opt/anaconda3/lib/python3.9/site-packages/tushare/stock/trading.py:706: FutureWarning: The frame.append method is deprecated and will be removed from pandas in a future version. Use pandas.concat instead.\n",
      "  data = data.append(_get_k_data(url, dataflag,\n",
      "/Users/hans/opt/anaconda3/lib/python3.9/site-packages/tushare/stock/trading.py:706: FutureWarning: The frame.append method is deprecated and will be removed from pandas in a future version. Use pandas.concat instead.\n",
      "  data = data.append(_get_k_data(url, dataflag,\n",
      "/Users/hans/opt/anaconda3/lib/python3.9/site-packages/tushare/stock/trading.py:706: FutureWarning: The frame.append method is deprecated and will be removed from pandas in a future version. Use pandas.concat instead.\n",
      "  data = data.append(_get_k_data(url, dataflag,\n",
      "/Users/hans/opt/anaconda3/lib/python3.9/site-packages/tushare/stock/trading.py:706: FutureWarning: The frame.append method is deprecated and will be removed from pandas in a future version. Use pandas.concat instead.\n",
      "  data = data.append(_get_k_data(url, dataflag,\n",
      "/Users/hans/opt/anaconda3/lib/python3.9/site-packages/tushare/stock/trading.py:706: FutureWarning: The frame.append method is deprecated and will be removed from pandas in a future version. Use pandas.concat instead.\n",
      "  data = data.append(_get_k_data(url, dataflag,\n"
     ]
    },
    {
     "ename": "KeyboardInterrupt",
     "evalue": "",
     "output_type": "error",
     "traceback": [
      "\u001b[0;31m---------------------------------------------------------------------------\u001b[0m",
      "\u001b[0;31mKeyboardInterrupt\u001b[0m                         Traceback (most recent call last)",
      "Input \u001b[0;32mIn [2]\u001b[0m, in \u001b[0;36m<cell line: 2>\u001b[0;34m()\u001b[0m\n\u001b[1;32m      1\u001b[0m \u001b[38;5;28;01mimport\u001b[39;00m \u001b[38;5;21;01mtushare\u001b[39;00m\n\u001b[1;32m      2\u001b[0m \u001b[38;5;28;01mfor\u001b[39;00m i \u001b[38;5;129;01min\u001b[39;00m ticker:\n\u001b[0;32m----> 3\u001b[0m     df \u001b[38;5;241m=\u001b[39m \u001b[43mtushare\u001b[49m\u001b[38;5;241;43m.\u001b[39;49m\u001b[43mget_k_data\u001b[49m\u001b[43m(\u001b[49m\u001b[43mticker\u001b[49m\u001b[43m[\u001b[49m\u001b[43mi\u001b[49m\u001b[43m]\u001b[49m\u001b[43m,\u001b[49m\u001b[43m \u001b[49m\u001b[43mstart\u001b[49m\u001b[38;5;241;43m=\u001b[39;49m\u001b[38;5;124;43m'\u001b[39;49m\u001b[38;5;124;43m2000-01-01\u001b[39;49m\u001b[38;5;124;43m'\u001b[39;49m\u001b[43m,\u001b[49m\u001b[43m \u001b[49m\u001b[43mend\u001b[49m\u001b[38;5;241;43m=\u001b[39;49m\u001b[38;5;124;43m'\u001b[39;49m\u001b[38;5;124;43m2020-02-01\u001b[39;49m\u001b[38;5;124;43m'\u001b[39;49m\u001b[43m)\u001b[49m  \u001b[38;5;66;03m#获取某个时间段内的深圳指数\u001b[39;00m\n\u001b[1;32m      4\u001b[0m     df\u001b[38;5;241m.\u001b[39mto_csv(\u001b[38;5;124m'\u001b[39m\u001b[38;5;124mdatasets/A50/\u001b[39m\u001b[38;5;132;01m%s\u001b[39;00m\u001b[38;5;124m.csv\u001b[39m\u001b[38;5;124m'\u001b[39m \u001b[38;5;241m%\u001b[39mi)\n",
      "File \u001b[0;32m~/opt/anaconda3/lib/python3.9/site-packages/tushare/stock/trading.py:706\u001b[0m, in \u001b[0;36mget_k_data\u001b[0;34m(code, start, end, ktype, autype, index, retry_count, pause)\u001b[0m\n\u001b[1;32m    704\u001b[0m data \u001b[38;5;241m=\u001b[39m pd\u001b[38;5;241m.\u001b[39mDataFrame()\n\u001b[1;32m    705\u001b[0m \u001b[38;5;28;01mfor\u001b[39;00m url \u001b[38;5;129;01min\u001b[39;00m urls:\n\u001b[0;32m--> 706\u001b[0m     data \u001b[38;5;241m=\u001b[39m data\u001b[38;5;241m.\u001b[39mappend(\u001b[43m_get_k_data\u001b[49m\u001b[43m(\u001b[49m\u001b[43murl\u001b[49m\u001b[43m,\u001b[49m\u001b[43m \u001b[49m\u001b[43mdataflag\u001b[49m\u001b[43m,\u001b[49m\u001b[43m \u001b[49m\n\u001b[1;32m    707\u001b[0m \u001b[43m                                   \u001b[49m\u001b[43msymbol\u001b[49m\u001b[43m,\u001b[49m\u001b[43m \u001b[49m\u001b[43mcode\u001b[49m\u001b[43m,\u001b[49m\n\u001b[1;32m    708\u001b[0m \u001b[43m                                   \u001b[49m\u001b[43mindex\u001b[49m\u001b[43m,\u001b[49m\u001b[43m \u001b[49m\u001b[43mktype\u001b[49m\u001b[43m,\u001b[49m\n\u001b[1;32m    709\u001b[0m \u001b[43m                                   \u001b[49m\u001b[43mretry_count\u001b[49m\u001b[43m,\u001b[49m\u001b[43m \u001b[49m\u001b[43mpause\u001b[49m\u001b[43m)\u001b[49m, \n\u001b[1;32m    710\u001b[0m                        ignore_index\u001b[38;5;241m=\u001b[39m\u001b[38;5;28;01mTrue\u001b[39;00m)\n\u001b[1;32m    711\u001b[0m \u001b[38;5;28;01mif\u001b[39;00m ktype \u001b[38;5;129;01mnot\u001b[39;00m \u001b[38;5;129;01min\u001b[39;00m ct\u001b[38;5;241m.\u001b[39mK_MIN_LABELS:\n\u001b[1;32m    712\u001b[0m     \u001b[38;5;28;01mif\u001b[39;00m ((start \u001b[38;5;129;01mis\u001b[39;00m \u001b[38;5;129;01mnot\u001b[39;00m \u001b[38;5;28;01mNone\u001b[39;00m) \u001b[38;5;241m&\u001b[39m (start \u001b[38;5;241m!=\u001b[39m \u001b[38;5;124m'\u001b[39m\u001b[38;5;124m'\u001b[39m)) \u001b[38;5;241m&\u001b[39m ((end \u001b[38;5;129;01mis\u001b[39;00m \u001b[38;5;129;01mnot\u001b[39;00m \u001b[38;5;28;01mNone\u001b[39;00m) \u001b[38;5;241m&\u001b[39m (end \u001b[38;5;241m!=\u001b[39m \u001b[38;5;124m'\u001b[39m\u001b[38;5;124m'\u001b[39m)):\n",
      "File \u001b[0;32m~/opt/anaconda3/lib/python3.9/site-packages/tushare/stock/trading.py:730\u001b[0m, in \u001b[0;36m_get_k_data\u001b[0;34m(url, dataflag, symbol, code, index, ktype, retry_count, pause)\u001b[0m\n\u001b[1;32m    728\u001b[0m \u001b[38;5;28;01mtry\u001b[39;00m:\n\u001b[1;32m    729\u001b[0m     request \u001b[38;5;241m=\u001b[39m Request(url)\n\u001b[0;32m--> 730\u001b[0m     lines \u001b[38;5;241m=\u001b[39m \u001b[43murlopen\u001b[49m\u001b[43m(\u001b[49m\u001b[43mrequest\u001b[49m\u001b[43m,\u001b[49m\u001b[43m \u001b[49m\u001b[43mtimeout\u001b[49m\u001b[43m \u001b[49m\u001b[38;5;241;43m=\u001b[39;49m\u001b[43m \u001b[49m\u001b[38;5;241;43m10\u001b[39;49m\u001b[43m)\u001b[49m\u001b[38;5;241m.\u001b[39mread()\n\u001b[1;32m    731\u001b[0m     \u001b[38;5;28;01mif\u001b[39;00m \u001b[38;5;28mlen\u001b[39m(lines) \u001b[38;5;241m<\u001b[39m \u001b[38;5;241m100\u001b[39m: \u001b[38;5;66;03m#no data\u001b[39;00m\n\u001b[1;32m    732\u001b[0m         \u001b[38;5;28;01mreturn\u001b[39;00m \u001b[38;5;28;01mNone\u001b[39;00m\n",
      "File \u001b[0;32m~/opt/anaconda3/lib/python3.9/urllib/request.py:214\u001b[0m, in \u001b[0;36murlopen\u001b[0;34m(url, data, timeout, cafile, capath, cadefault, context)\u001b[0m\n\u001b[1;32m    212\u001b[0m \u001b[38;5;28;01melse\u001b[39;00m:\n\u001b[1;32m    213\u001b[0m     opener \u001b[38;5;241m=\u001b[39m _opener\n\u001b[0;32m--> 214\u001b[0m \u001b[38;5;28;01mreturn\u001b[39;00m \u001b[43mopener\u001b[49m\u001b[38;5;241;43m.\u001b[39;49m\u001b[43mopen\u001b[49m\u001b[43m(\u001b[49m\u001b[43murl\u001b[49m\u001b[43m,\u001b[49m\u001b[43m \u001b[49m\u001b[43mdata\u001b[49m\u001b[43m,\u001b[49m\u001b[43m \u001b[49m\u001b[43mtimeout\u001b[49m\u001b[43m)\u001b[49m\n",
      "File \u001b[0;32m~/opt/anaconda3/lib/python3.9/urllib/request.py:523\u001b[0m, in \u001b[0;36mOpenerDirector.open\u001b[0;34m(self, fullurl, data, timeout)\u001b[0m\n\u001b[1;32m    521\u001b[0m \u001b[38;5;28;01mfor\u001b[39;00m processor \u001b[38;5;129;01min\u001b[39;00m \u001b[38;5;28mself\u001b[39m\u001b[38;5;241m.\u001b[39mprocess_response\u001b[38;5;241m.\u001b[39mget(protocol, []):\n\u001b[1;32m    522\u001b[0m     meth \u001b[38;5;241m=\u001b[39m \u001b[38;5;28mgetattr\u001b[39m(processor, meth_name)\n\u001b[0;32m--> 523\u001b[0m     response \u001b[38;5;241m=\u001b[39m \u001b[43mmeth\u001b[49m\u001b[43m(\u001b[49m\u001b[43mreq\u001b[49m\u001b[43m,\u001b[49m\u001b[43m \u001b[49m\u001b[43mresponse\u001b[49m\u001b[43m)\u001b[49m\n\u001b[1;32m    525\u001b[0m \u001b[38;5;28;01mreturn\u001b[39;00m response\n",
      "File \u001b[0;32m~/opt/anaconda3/lib/python3.9/urllib/request.py:632\u001b[0m, in \u001b[0;36mHTTPErrorProcessor.http_response\u001b[0;34m(self, request, response)\u001b[0m\n\u001b[1;32m    629\u001b[0m \u001b[38;5;66;03m# According to RFC 2616, \"2xx\" code indicates that the client's\u001b[39;00m\n\u001b[1;32m    630\u001b[0m \u001b[38;5;66;03m# request was successfully received, understood, and accepted.\u001b[39;00m\n\u001b[1;32m    631\u001b[0m \u001b[38;5;28;01mif\u001b[39;00m \u001b[38;5;129;01mnot\u001b[39;00m (\u001b[38;5;241m200\u001b[39m \u001b[38;5;241m<\u001b[39m\u001b[38;5;241m=\u001b[39m code \u001b[38;5;241m<\u001b[39m \u001b[38;5;241m300\u001b[39m):\n\u001b[0;32m--> 632\u001b[0m     response \u001b[38;5;241m=\u001b[39m \u001b[38;5;28;43mself\u001b[39;49m\u001b[38;5;241;43m.\u001b[39;49m\u001b[43mparent\u001b[49m\u001b[38;5;241;43m.\u001b[39;49m\u001b[43merror\u001b[49m\u001b[43m(\u001b[49m\n\u001b[1;32m    633\u001b[0m \u001b[43m        \u001b[49m\u001b[38;5;124;43m'\u001b[39;49m\u001b[38;5;124;43mhttp\u001b[39;49m\u001b[38;5;124;43m'\u001b[39;49m\u001b[43m,\u001b[49m\u001b[43m \u001b[49m\u001b[43mrequest\u001b[49m\u001b[43m,\u001b[49m\u001b[43m \u001b[49m\u001b[43mresponse\u001b[49m\u001b[43m,\u001b[49m\u001b[43m \u001b[49m\u001b[43mcode\u001b[49m\u001b[43m,\u001b[49m\u001b[43m \u001b[49m\u001b[43mmsg\u001b[49m\u001b[43m,\u001b[49m\u001b[43m \u001b[49m\u001b[43mhdrs\u001b[49m\u001b[43m)\u001b[49m\n\u001b[1;32m    635\u001b[0m \u001b[38;5;28;01mreturn\u001b[39;00m response\n",
      "File \u001b[0;32m~/opt/anaconda3/lib/python3.9/urllib/request.py:555\u001b[0m, in \u001b[0;36mOpenerDirector.error\u001b[0;34m(self, proto, *args)\u001b[0m\n\u001b[1;32m    553\u001b[0m     http_err \u001b[38;5;241m=\u001b[39m \u001b[38;5;241m0\u001b[39m\n\u001b[1;32m    554\u001b[0m args \u001b[38;5;241m=\u001b[39m (\u001b[38;5;28mdict\u001b[39m, proto, meth_name) \u001b[38;5;241m+\u001b[39m args\n\u001b[0;32m--> 555\u001b[0m result \u001b[38;5;241m=\u001b[39m \u001b[38;5;28;43mself\u001b[39;49m\u001b[38;5;241;43m.\u001b[39;49m\u001b[43m_call_chain\u001b[49m\u001b[43m(\u001b[49m\u001b[38;5;241;43m*\u001b[39;49m\u001b[43margs\u001b[49m\u001b[43m)\u001b[49m\n\u001b[1;32m    556\u001b[0m \u001b[38;5;28;01mif\u001b[39;00m result:\n\u001b[1;32m    557\u001b[0m     \u001b[38;5;28;01mreturn\u001b[39;00m result\n",
      "File \u001b[0;32m~/opt/anaconda3/lib/python3.9/urllib/request.py:494\u001b[0m, in \u001b[0;36mOpenerDirector._call_chain\u001b[0;34m(self, chain, kind, meth_name, *args)\u001b[0m\n\u001b[1;32m    492\u001b[0m \u001b[38;5;28;01mfor\u001b[39;00m handler \u001b[38;5;129;01min\u001b[39;00m handlers:\n\u001b[1;32m    493\u001b[0m     func \u001b[38;5;241m=\u001b[39m \u001b[38;5;28mgetattr\u001b[39m(handler, meth_name)\n\u001b[0;32m--> 494\u001b[0m     result \u001b[38;5;241m=\u001b[39m \u001b[43mfunc\u001b[49m\u001b[43m(\u001b[49m\u001b[38;5;241;43m*\u001b[39;49m\u001b[43margs\u001b[49m\u001b[43m)\u001b[49m\n\u001b[1;32m    495\u001b[0m     \u001b[38;5;28;01mif\u001b[39;00m result \u001b[38;5;129;01mis\u001b[39;00m \u001b[38;5;129;01mnot\u001b[39;00m \u001b[38;5;28;01mNone\u001b[39;00m:\n\u001b[1;32m    496\u001b[0m         \u001b[38;5;28;01mreturn\u001b[39;00m result\n",
      "File \u001b[0;32m~/opt/anaconda3/lib/python3.9/urllib/request.py:747\u001b[0m, in \u001b[0;36mHTTPRedirectHandler.http_error_302\u001b[0;34m(self, req, fp, code, msg, headers)\u001b[0m\n\u001b[1;32m    744\u001b[0m fp\u001b[38;5;241m.\u001b[39mread()\n\u001b[1;32m    745\u001b[0m fp\u001b[38;5;241m.\u001b[39mclose()\n\u001b[0;32m--> 747\u001b[0m \u001b[38;5;28;01mreturn\u001b[39;00m \u001b[38;5;28;43mself\u001b[39;49m\u001b[38;5;241;43m.\u001b[39;49m\u001b[43mparent\u001b[49m\u001b[38;5;241;43m.\u001b[39;49m\u001b[43mopen\u001b[49m\u001b[43m(\u001b[49m\u001b[43mnew\u001b[49m\u001b[43m,\u001b[49m\u001b[43m \u001b[49m\u001b[43mtimeout\u001b[49m\u001b[38;5;241;43m=\u001b[39;49m\u001b[43mreq\u001b[49m\u001b[38;5;241;43m.\u001b[39;49m\u001b[43mtimeout\u001b[49m\u001b[43m)\u001b[49m\n",
      "File \u001b[0;32m~/opt/anaconda3/lib/python3.9/urllib/request.py:517\u001b[0m, in \u001b[0;36mOpenerDirector.open\u001b[0;34m(self, fullurl, data, timeout)\u001b[0m\n\u001b[1;32m    514\u001b[0m     req \u001b[38;5;241m=\u001b[39m meth(req)\n\u001b[1;32m    516\u001b[0m sys\u001b[38;5;241m.\u001b[39maudit(\u001b[38;5;124m'\u001b[39m\u001b[38;5;124murllib.Request\u001b[39m\u001b[38;5;124m'\u001b[39m, req\u001b[38;5;241m.\u001b[39mfull_url, req\u001b[38;5;241m.\u001b[39mdata, req\u001b[38;5;241m.\u001b[39mheaders, req\u001b[38;5;241m.\u001b[39mget_method())\n\u001b[0;32m--> 517\u001b[0m response \u001b[38;5;241m=\u001b[39m \u001b[38;5;28;43mself\u001b[39;49m\u001b[38;5;241;43m.\u001b[39;49m\u001b[43m_open\u001b[49m\u001b[43m(\u001b[49m\u001b[43mreq\u001b[49m\u001b[43m,\u001b[49m\u001b[43m \u001b[49m\u001b[43mdata\u001b[49m\u001b[43m)\u001b[49m\n\u001b[1;32m    519\u001b[0m \u001b[38;5;66;03m# post-process response\u001b[39;00m\n\u001b[1;32m    520\u001b[0m meth_name \u001b[38;5;241m=\u001b[39m protocol\u001b[38;5;241m+\u001b[39m\u001b[38;5;124m\"\u001b[39m\u001b[38;5;124m_response\u001b[39m\u001b[38;5;124m\"\u001b[39m\n",
      "File \u001b[0;32m~/opt/anaconda3/lib/python3.9/urllib/request.py:534\u001b[0m, in \u001b[0;36mOpenerDirector._open\u001b[0;34m(self, req, data)\u001b[0m\n\u001b[1;32m    531\u001b[0m     \u001b[38;5;28;01mreturn\u001b[39;00m result\n\u001b[1;32m    533\u001b[0m protocol \u001b[38;5;241m=\u001b[39m req\u001b[38;5;241m.\u001b[39mtype\n\u001b[0;32m--> 534\u001b[0m result \u001b[38;5;241m=\u001b[39m \u001b[38;5;28;43mself\u001b[39;49m\u001b[38;5;241;43m.\u001b[39;49m\u001b[43m_call_chain\u001b[49m\u001b[43m(\u001b[49m\u001b[38;5;28;43mself\u001b[39;49m\u001b[38;5;241;43m.\u001b[39;49m\u001b[43mhandle_open\u001b[49m\u001b[43m,\u001b[49m\u001b[43m \u001b[49m\u001b[43mprotocol\u001b[49m\u001b[43m,\u001b[49m\u001b[43m \u001b[49m\u001b[43mprotocol\u001b[49m\u001b[43m \u001b[49m\u001b[38;5;241;43m+\u001b[39;49m\n\u001b[1;32m    535\u001b[0m \u001b[43m                          \u001b[49m\u001b[38;5;124;43m'\u001b[39;49m\u001b[38;5;124;43m_open\u001b[39;49m\u001b[38;5;124;43m'\u001b[39;49m\u001b[43m,\u001b[49m\u001b[43m \u001b[49m\u001b[43mreq\u001b[49m\u001b[43m)\u001b[49m\n\u001b[1;32m    536\u001b[0m \u001b[38;5;28;01mif\u001b[39;00m result:\n\u001b[1;32m    537\u001b[0m     \u001b[38;5;28;01mreturn\u001b[39;00m result\n",
      "File \u001b[0;32m~/opt/anaconda3/lib/python3.9/urllib/request.py:494\u001b[0m, in \u001b[0;36mOpenerDirector._call_chain\u001b[0;34m(self, chain, kind, meth_name, *args)\u001b[0m\n\u001b[1;32m    492\u001b[0m \u001b[38;5;28;01mfor\u001b[39;00m handler \u001b[38;5;129;01min\u001b[39;00m handlers:\n\u001b[1;32m    493\u001b[0m     func \u001b[38;5;241m=\u001b[39m \u001b[38;5;28mgetattr\u001b[39m(handler, meth_name)\n\u001b[0;32m--> 494\u001b[0m     result \u001b[38;5;241m=\u001b[39m \u001b[43mfunc\u001b[49m\u001b[43m(\u001b[49m\u001b[38;5;241;43m*\u001b[39;49m\u001b[43margs\u001b[49m\u001b[43m)\u001b[49m\n\u001b[1;32m    495\u001b[0m     \u001b[38;5;28;01mif\u001b[39;00m result \u001b[38;5;129;01mis\u001b[39;00m \u001b[38;5;129;01mnot\u001b[39;00m \u001b[38;5;28;01mNone\u001b[39;00m:\n\u001b[1;32m    496\u001b[0m         \u001b[38;5;28;01mreturn\u001b[39;00m result\n",
      "File \u001b[0;32m~/opt/anaconda3/lib/python3.9/urllib/request.py:1389\u001b[0m, in \u001b[0;36mHTTPSHandler.https_open\u001b[0;34m(self, req)\u001b[0m\n\u001b[1;32m   1388\u001b[0m \u001b[38;5;28;01mdef\u001b[39;00m \u001b[38;5;21mhttps_open\u001b[39m(\u001b[38;5;28mself\u001b[39m, req):\n\u001b[0;32m-> 1389\u001b[0m     \u001b[38;5;28;01mreturn\u001b[39;00m \u001b[38;5;28;43mself\u001b[39;49m\u001b[38;5;241;43m.\u001b[39;49m\u001b[43mdo_open\u001b[49m\u001b[43m(\u001b[49m\u001b[43mhttp\u001b[49m\u001b[38;5;241;43m.\u001b[39;49m\u001b[43mclient\u001b[49m\u001b[38;5;241;43m.\u001b[39;49m\u001b[43mHTTPSConnection\u001b[49m\u001b[43m,\u001b[49m\u001b[43m \u001b[49m\u001b[43mreq\u001b[49m\u001b[43m,\u001b[49m\n\u001b[1;32m   1390\u001b[0m \u001b[43m        \u001b[49m\u001b[43mcontext\u001b[49m\u001b[38;5;241;43m=\u001b[39;49m\u001b[38;5;28;43mself\u001b[39;49m\u001b[38;5;241;43m.\u001b[39;49m\u001b[43m_context\u001b[49m\u001b[43m,\u001b[49m\u001b[43m \u001b[49m\u001b[43mcheck_hostname\u001b[49m\u001b[38;5;241;43m=\u001b[39;49m\u001b[38;5;28;43mself\u001b[39;49m\u001b[38;5;241;43m.\u001b[39;49m\u001b[43m_check_hostname\u001b[49m\u001b[43m)\u001b[49m\n",
      "File \u001b[0;32m~/opt/anaconda3/lib/python3.9/urllib/request.py:1350\u001b[0m, in \u001b[0;36mAbstractHTTPHandler.do_open\u001b[0;34m(self, http_class, req, **http_conn_args)\u001b[0m\n\u001b[1;32m   1348\u001b[0m     \u001b[38;5;28;01mexcept\u001b[39;00m \u001b[38;5;167;01mOSError\u001b[39;00m \u001b[38;5;28;01mas\u001b[39;00m err: \u001b[38;5;66;03m# timeout error\u001b[39;00m\n\u001b[1;32m   1349\u001b[0m         \u001b[38;5;28;01mraise\u001b[39;00m URLError(err)\n\u001b[0;32m-> 1350\u001b[0m     r \u001b[38;5;241m=\u001b[39m \u001b[43mh\u001b[49m\u001b[38;5;241;43m.\u001b[39;49m\u001b[43mgetresponse\u001b[49m\u001b[43m(\u001b[49m\u001b[43m)\u001b[49m\n\u001b[1;32m   1351\u001b[0m \u001b[38;5;28;01mexcept\u001b[39;00m:\n\u001b[1;32m   1352\u001b[0m     h\u001b[38;5;241m.\u001b[39mclose()\n",
      "File \u001b[0;32m~/opt/anaconda3/lib/python3.9/http/client.py:1377\u001b[0m, in \u001b[0;36mHTTPConnection.getresponse\u001b[0;34m(self)\u001b[0m\n\u001b[1;32m   1375\u001b[0m \u001b[38;5;28;01mtry\u001b[39;00m:\n\u001b[1;32m   1376\u001b[0m     \u001b[38;5;28;01mtry\u001b[39;00m:\n\u001b[0;32m-> 1377\u001b[0m         \u001b[43mresponse\u001b[49m\u001b[38;5;241;43m.\u001b[39;49m\u001b[43mbegin\u001b[49m\u001b[43m(\u001b[49m\u001b[43m)\u001b[49m\n\u001b[1;32m   1378\u001b[0m     \u001b[38;5;28;01mexcept\u001b[39;00m \u001b[38;5;167;01mConnectionError\u001b[39;00m:\n\u001b[1;32m   1379\u001b[0m         \u001b[38;5;28mself\u001b[39m\u001b[38;5;241m.\u001b[39mclose()\n",
      "File \u001b[0;32m~/opt/anaconda3/lib/python3.9/http/client.py:320\u001b[0m, in \u001b[0;36mHTTPResponse.begin\u001b[0;34m(self)\u001b[0m\n\u001b[1;32m    318\u001b[0m \u001b[38;5;66;03m# read until we get a non-100 response\u001b[39;00m\n\u001b[1;32m    319\u001b[0m \u001b[38;5;28;01mwhile\u001b[39;00m \u001b[38;5;28;01mTrue\u001b[39;00m:\n\u001b[0;32m--> 320\u001b[0m     version, status, reason \u001b[38;5;241m=\u001b[39m \u001b[38;5;28;43mself\u001b[39;49m\u001b[38;5;241;43m.\u001b[39;49m\u001b[43m_read_status\u001b[49m\u001b[43m(\u001b[49m\u001b[43m)\u001b[49m\n\u001b[1;32m    321\u001b[0m     \u001b[38;5;28;01mif\u001b[39;00m status \u001b[38;5;241m!=\u001b[39m CONTINUE:\n\u001b[1;32m    322\u001b[0m         \u001b[38;5;28;01mbreak\u001b[39;00m\n",
      "File \u001b[0;32m~/opt/anaconda3/lib/python3.9/http/client.py:281\u001b[0m, in \u001b[0;36mHTTPResponse._read_status\u001b[0;34m(self)\u001b[0m\n\u001b[1;32m    280\u001b[0m \u001b[38;5;28;01mdef\u001b[39;00m \u001b[38;5;21m_read_status\u001b[39m(\u001b[38;5;28mself\u001b[39m):\n\u001b[0;32m--> 281\u001b[0m     line \u001b[38;5;241m=\u001b[39m \u001b[38;5;28mstr\u001b[39m(\u001b[38;5;28;43mself\u001b[39;49m\u001b[38;5;241;43m.\u001b[39;49m\u001b[43mfp\u001b[49m\u001b[38;5;241;43m.\u001b[39;49m\u001b[43mreadline\u001b[49m\u001b[43m(\u001b[49m\u001b[43m_MAXLINE\u001b[49m\u001b[43m \u001b[49m\u001b[38;5;241;43m+\u001b[39;49m\u001b[43m \u001b[49m\u001b[38;5;241;43m1\u001b[39;49m\u001b[43m)\u001b[49m, \u001b[38;5;124m\"\u001b[39m\u001b[38;5;124miso-8859-1\u001b[39m\u001b[38;5;124m\"\u001b[39m)\n\u001b[1;32m    282\u001b[0m     \u001b[38;5;28;01mif\u001b[39;00m \u001b[38;5;28mlen\u001b[39m(line) \u001b[38;5;241m>\u001b[39m _MAXLINE:\n\u001b[1;32m    283\u001b[0m         \u001b[38;5;28;01mraise\u001b[39;00m LineTooLong(\u001b[38;5;124m\"\u001b[39m\u001b[38;5;124mstatus line\u001b[39m\u001b[38;5;124m\"\u001b[39m)\n",
      "File \u001b[0;32m~/opt/anaconda3/lib/python3.9/socket.py:704\u001b[0m, in \u001b[0;36mSocketIO.readinto\u001b[0;34m(self, b)\u001b[0m\n\u001b[1;32m    702\u001b[0m \u001b[38;5;28;01mwhile\u001b[39;00m \u001b[38;5;28;01mTrue\u001b[39;00m:\n\u001b[1;32m    703\u001b[0m     \u001b[38;5;28;01mtry\u001b[39;00m:\n\u001b[0;32m--> 704\u001b[0m         \u001b[38;5;28;01mreturn\u001b[39;00m \u001b[38;5;28;43mself\u001b[39;49m\u001b[38;5;241;43m.\u001b[39;49m\u001b[43m_sock\u001b[49m\u001b[38;5;241;43m.\u001b[39;49m\u001b[43mrecv_into\u001b[49m\u001b[43m(\u001b[49m\u001b[43mb\u001b[49m\u001b[43m)\u001b[49m\n\u001b[1;32m    705\u001b[0m     \u001b[38;5;28;01mexcept\u001b[39;00m timeout:\n\u001b[1;32m    706\u001b[0m         \u001b[38;5;28mself\u001b[39m\u001b[38;5;241m.\u001b[39m_timeout_occurred \u001b[38;5;241m=\u001b[39m \u001b[38;5;28;01mTrue\u001b[39;00m\n",
      "File \u001b[0;32m~/opt/anaconda3/lib/python3.9/ssl.py:1242\u001b[0m, in \u001b[0;36mSSLSocket.recv_into\u001b[0;34m(self, buffer, nbytes, flags)\u001b[0m\n\u001b[1;32m   1238\u001b[0m     \u001b[38;5;28;01mif\u001b[39;00m flags \u001b[38;5;241m!=\u001b[39m \u001b[38;5;241m0\u001b[39m:\n\u001b[1;32m   1239\u001b[0m         \u001b[38;5;28;01mraise\u001b[39;00m \u001b[38;5;167;01mValueError\u001b[39;00m(\n\u001b[1;32m   1240\u001b[0m           \u001b[38;5;124m\"\u001b[39m\u001b[38;5;124mnon-zero flags not allowed in calls to recv_into() on \u001b[39m\u001b[38;5;132;01m%s\u001b[39;00m\u001b[38;5;124m\"\u001b[39m \u001b[38;5;241m%\u001b[39m\n\u001b[1;32m   1241\u001b[0m           \u001b[38;5;28mself\u001b[39m\u001b[38;5;241m.\u001b[39m\u001b[38;5;18m__class__\u001b[39m)\n\u001b[0;32m-> 1242\u001b[0m     \u001b[38;5;28;01mreturn\u001b[39;00m \u001b[38;5;28;43mself\u001b[39;49m\u001b[38;5;241;43m.\u001b[39;49m\u001b[43mread\u001b[49m\u001b[43m(\u001b[49m\u001b[43mnbytes\u001b[49m\u001b[43m,\u001b[49m\u001b[43m \u001b[49m\u001b[43mbuffer\u001b[49m\u001b[43m)\u001b[49m\n\u001b[1;32m   1243\u001b[0m \u001b[38;5;28;01melse\u001b[39;00m:\n\u001b[1;32m   1244\u001b[0m     \u001b[38;5;28;01mreturn\u001b[39;00m \u001b[38;5;28msuper\u001b[39m()\u001b[38;5;241m.\u001b[39mrecv_into(buffer, nbytes, flags)\n",
      "File \u001b[0;32m~/opt/anaconda3/lib/python3.9/ssl.py:1100\u001b[0m, in \u001b[0;36mSSLSocket.read\u001b[0;34m(self, len, buffer)\u001b[0m\n\u001b[1;32m   1098\u001b[0m \u001b[38;5;28;01mtry\u001b[39;00m:\n\u001b[1;32m   1099\u001b[0m     \u001b[38;5;28;01mif\u001b[39;00m buffer \u001b[38;5;129;01mis\u001b[39;00m \u001b[38;5;129;01mnot\u001b[39;00m \u001b[38;5;28;01mNone\u001b[39;00m:\n\u001b[0;32m-> 1100\u001b[0m         \u001b[38;5;28;01mreturn\u001b[39;00m \u001b[38;5;28;43mself\u001b[39;49m\u001b[38;5;241;43m.\u001b[39;49m\u001b[43m_sslobj\u001b[49m\u001b[38;5;241;43m.\u001b[39;49m\u001b[43mread\u001b[49m\u001b[43m(\u001b[49m\u001b[38;5;28;43mlen\u001b[39;49m\u001b[43m,\u001b[49m\u001b[43m \u001b[49m\u001b[43mbuffer\u001b[49m\u001b[43m)\u001b[49m\n\u001b[1;32m   1101\u001b[0m     \u001b[38;5;28;01melse\u001b[39;00m:\n\u001b[1;32m   1102\u001b[0m         \u001b[38;5;28;01mreturn\u001b[39;00m \u001b[38;5;28mself\u001b[39m\u001b[38;5;241m.\u001b[39m_sslobj\u001b[38;5;241m.\u001b[39mread(\u001b[38;5;28mlen\u001b[39m)\n",
      "\u001b[0;31mKeyboardInterrupt\u001b[0m: "
     ]
    }
   ],
   "source": [
    "import tushare\n",
    "for i in ticker:\n",
    "    df = tushare.get_k_data(ticker[i], start='2000-01-01', end='2020-02-01')  #获取某个时间段内的深圳指数\n",
    "    df.to_csv('datasets/A50/%s.csv' %i)"
   ]
  },
  {
   "cell_type": "markdown",
   "id": "7599de41-24b1-4282-8fb4-def693c2687d",
   "metadata": {},
   "source": [
    "原始的股票数据是按照每个股票，这里我们称其为tickers，来单独存放的。为了进行向量式计算，我们将其重新组合成\"OpenPrice\", \"HighestPrice\", \"LowestPrice\", \"ClosePrice\", \"Volume\"这5个2维向量。\n",
    "![data_process](images/data_process.png)"
   ]
  },
  {
   "cell_type": "code",
   "execution_count": 3,
   "id": "1a5e4ff4-bbfc-45d4-bcba-491c29d95839",
   "metadata": {},
   "outputs": [],
   "source": [
    "import pandas as pd\n",
    "ClosePrice = pd.DataFrame()\n",
    "OpenPrice = pd.DataFrame()\n",
    "HighestPrice = pd.DataFrame()\n",
    "LowestPrice = pd.DataFrame()\n",
    "Volume = pd.DataFrame()\n",
    "\n",
    "for i in ticker:\n",
    "    df = pd.read_csv('datasets/A50/%s.csv' %i, index_col=0)\n",
    "    df.index = df['date']\n",
    "    ClosePrice[i] = df['close']\n",
    "    OpenPrice[i] = df['open']\n",
    "    HighestPrice[i] = df['high']\n",
    "    LowestPrice[i] = df['low']\n",
    "    Volume[i] = df['volume']\n",
    "dates = ClosePrice.index.values"
   ]
  },
  {
   "cell_type": "code",
   "execution_count": 4,
   "id": "e52d30b6-08f6-4bc1-9c58-c7e1cb8d2e2d",
   "metadata": {},
   "outputs": [
    {
     "data": {
      "text/html": [
       "<div>\n",
       "<style scoped>\n",
       "    .dataframe tbody tr th:only-of-type {\n",
       "        vertical-align: middle;\n",
       "    }\n",
       "\n",
       "    .dataframe tbody tr th {\n",
       "        vertical-align: top;\n",
       "    }\n",
       "\n",
       "    .dataframe thead th {\n",
       "        text-align: right;\n",
       "    }\n",
       "</style>\n",
       "<table border=\"1\" class=\"dataframe\">\n",
       "  <thead>\n",
       "    <tr style=\"text-align: right;\">\n",
       "      <th></th>\n",
       "      <th>浦发银行</th>\n",
       "      <th>上海机场</th>\n",
       "      <th>民生银行</th>\n",
       "      <th>中国石化</th>\n",
       "      <th>中信证券</th>\n",
       "      <th>三一重工</th>\n",
       "      <th>招商银行</th>\n",
       "      <th>保利地产</th>\n",
       "      <th>中国联通</th>\n",
       "      <th>上汽集团</th>\n",
       "      <th>...</th>\n",
       "      <th>华泰证券</th>\n",
       "      <th>光大银行</th>\n",
       "      <th>中国石油</th>\n",
       "      <th>中国中免</th>\n",
       "      <th>紫金矿业</th>\n",
       "      <th>中金公司</th>\n",
       "      <th>药明康德</th>\n",
       "      <th>海天味业</th>\n",
       "      <th>韦尔股份</th>\n",
       "      <th>兆易创新</th>\n",
       "    </tr>\n",
       "    <tr>\n",
       "      <th>date</th>\n",
       "      <th></th>\n",
       "      <th></th>\n",
       "      <th></th>\n",
       "      <th></th>\n",
       "      <th></th>\n",
       "      <th></th>\n",
       "      <th></th>\n",
       "      <th></th>\n",
       "      <th></th>\n",
       "      <th></th>\n",
       "      <th></th>\n",
       "      <th></th>\n",
       "      <th></th>\n",
       "      <th></th>\n",
       "      <th></th>\n",
       "      <th></th>\n",
       "      <th></th>\n",
       "      <th></th>\n",
       "      <th></th>\n",
       "      <th></th>\n",
       "      <th></th>\n",
       "    </tr>\n",
       "  </thead>\n",
       "  <tbody>\n",
       "    <tr>\n",
       "      <th>2020-01-17</th>\n",
       "      <td>10.74</td>\n",
       "      <td>72.47</td>\n",
       "      <td>5.494</td>\n",
       "      <td>4.05</td>\n",
       "      <td>22.644</td>\n",
       "      <td>15.261</td>\n",
       "      <td>33.955</td>\n",
       "      <td>13.54</td>\n",
       "      <td>5.692</td>\n",
       "      <td>22.578</td>\n",
       "      <td>...</td>\n",
       "      <td>18.692</td>\n",
       "      <td>3.555</td>\n",
       "      <td>5.17</td>\n",
       "      <td>86.63</td>\n",
       "      <td>4.20</td>\n",
       "      <td>NaN</td>\n",
       "      <td>56.676</td>\n",
       "      <td>51.067</td>\n",
       "      <td>129.330</td>\n",
       "      <td>127.433</td>\n",
       "    </tr>\n",
       "    <tr>\n",
       "      <th>2020-01-20</th>\n",
       "      <td>10.76</td>\n",
       "      <td>71.16</td>\n",
       "      <td>5.524</td>\n",
       "      <td>4.03</td>\n",
       "      <td>22.993</td>\n",
       "      <td>15.631</td>\n",
       "      <td>34.335</td>\n",
       "      <td>13.40</td>\n",
       "      <td>5.782</td>\n",
       "      <td>21.988</td>\n",
       "      <td>...</td>\n",
       "      <td>18.882</td>\n",
       "      <td>3.575</td>\n",
       "      <td>5.18</td>\n",
       "      <td>83.68</td>\n",
       "      <td>4.12</td>\n",
       "      <td>NaN</td>\n",
       "      <td>57.319</td>\n",
       "      <td>52.131</td>\n",
       "      <td>138.959</td>\n",
       "      <td>139.162</td>\n",
       "    </tr>\n",
       "    <tr>\n",
       "      <th>2020-01-21</th>\n",
       "      <td>10.59</td>\n",
       "      <td>69.61</td>\n",
       "      <td>5.454</td>\n",
       "      <td>3.99</td>\n",
       "      <td>22.478</td>\n",
       "      <td>14.901</td>\n",
       "      <td>33.815</td>\n",
       "      <td>12.87</td>\n",
       "      <td>5.642</td>\n",
       "      <td>20.938</td>\n",
       "      <td>...</td>\n",
       "      <td>18.322</td>\n",
       "      <td>3.505</td>\n",
       "      <td>5.12</td>\n",
       "      <td>80.53</td>\n",
       "      <td>3.94</td>\n",
       "      <td>NaN</td>\n",
       "      <td>57.402</td>\n",
       "      <td>52.082</td>\n",
       "      <td>135.626</td>\n",
       "      <td>136.826</td>\n",
       "    </tr>\n",
       "    <tr>\n",
       "      <th>2020-01-22</th>\n",
       "      <td>10.28</td>\n",
       "      <td>70.17</td>\n",
       "      <td>5.464</td>\n",
       "      <td>3.96</td>\n",
       "      <td>22.504</td>\n",
       "      <td>15.281</td>\n",
       "      <td>33.845</td>\n",
       "      <td>13.29</td>\n",
       "      <td>5.602</td>\n",
       "      <td>21.048</td>\n",
       "      <td>...</td>\n",
       "      <td>18.412</td>\n",
       "      <td>3.545</td>\n",
       "      <td>5.07</td>\n",
       "      <td>81.36</td>\n",
       "      <td>4.01</td>\n",
       "      <td>NaN</td>\n",
       "      <td>57.759</td>\n",
       "      <td>51.009</td>\n",
       "      <td>137.085</td>\n",
       "      <td>146.101</td>\n",
       "    </tr>\n",
       "    <tr>\n",
       "      <th>2020-01-23</th>\n",
       "      <td>9.86</td>\n",
       "      <td>68.19</td>\n",
       "      <td>5.284</td>\n",
       "      <td>3.92</td>\n",
       "      <td>21.370</td>\n",
       "      <td>14.411</td>\n",
       "      <td>32.835</td>\n",
       "      <td>12.75</td>\n",
       "      <td>5.372</td>\n",
       "      <td>20.448</td>\n",
       "      <td>...</td>\n",
       "      <td>17.792</td>\n",
       "      <td>3.395</td>\n",
       "      <td>4.97</td>\n",
       "      <td>78.78</td>\n",
       "      <td>3.87</td>\n",
       "      <td>NaN</td>\n",
       "      <td>55.997</td>\n",
       "      <td>49.780</td>\n",
       "      <td>136.774</td>\n",
       "      <td>142.734</td>\n",
       "    </tr>\n",
       "  </tbody>\n",
       "</table>\n",
       "<p>5 rows × 50 columns</p>\n",
       "</div>"
      ],
      "text/plain": [
       "             浦发银行   上海机场   民生银行  中国石化    中信证券    三一重工    招商银行   保利地产   中国联通  \\\n",
       "date                                                                          \n",
       "2020-01-17  10.74  72.47  5.494  4.05  22.644  15.261  33.955  13.54  5.692   \n",
       "2020-01-20  10.76  71.16  5.524  4.03  22.993  15.631  34.335  13.40  5.782   \n",
       "2020-01-21  10.59  69.61  5.454  3.99  22.478  14.901  33.815  12.87  5.642   \n",
       "2020-01-22  10.28  70.17  5.464  3.96  22.504  15.281  33.845  13.29  5.602   \n",
       "2020-01-23   9.86  68.19  5.284  3.92  21.370  14.411  32.835  12.75  5.372   \n",
       "\n",
       "              上汽集团  ...    华泰证券   光大银行  中国石油   中国中免  紫金矿业  中金公司    药明康德  \\\n",
       "date                ...                                                   \n",
       "2020-01-17  22.578  ...  18.692  3.555  5.17  86.63  4.20   NaN  56.676   \n",
       "2020-01-20  21.988  ...  18.882  3.575  5.18  83.68  4.12   NaN  57.319   \n",
       "2020-01-21  20.938  ...  18.322  3.505  5.12  80.53  3.94   NaN  57.402   \n",
       "2020-01-22  21.048  ...  18.412  3.545  5.07  81.36  4.01   NaN  57.759   \n",
       "2020-01-23  20.448  ...  17.792  3.395  4.97  78.78  3.87   NaN  55.997   \n",
       "\n",
       "              海天味业     韦尔股份     兆易创新  \n",
       "date                                  \n",
       "2020-01-17  51.067  129.330  127.433  \n",
       "2020-01-20  52.131  138.959  139.162  \n",
       "2020-01-21  52.082  135.626  136.826  \n",
       "2020-01-22  51.009  137.085  146.101  \n",
       "2020-01-23  49.780  136.774  142.734  \n",
       "\n",
       "[5 rows x 50 columns]"
      ]
     },
     "execution_count": 4,
     "metadata": {},
     "output_type": "execute_result"
    }
   ],
   "source": [
    "ClosePrice.tail()"
   ]
  },
  {
   "cell_type": "markdown",
   "id": "6d8112ec-eac7-41cf-8065-03aa774ea5bd",
   "metadata": {},
   "source": [
    "## 2. 策略/信号"
   ]
  },
  {
   "cell_type": "markdown",
   "id": "dcd26c0f-f04e-4a6b-b237-bfe02730902b",
   "metadata": {},
   "source": [
    "我们知道在技术分析里，均线交叉策略是一类应用广泛的策略，它的策略想法如下：\n",
    "- 5日的均线称为MA_5\n",
    "- 10日的均线称为MA_10\n",
    "- MA_5上穿MA_10则买入，买入数量为上穿后的幅度\n",
    "- MA_5下穿MA_10则卖出，卖出数量为下穿后的幅度"
   ]
  },
  {
   "cell_type": "code",
   "execution_count": 4,
   "id": "df94ae7e-e48f-42db-a001-3391e8fb5ff6",
   "metadata": {},
   "outputs": [],
   "source": [
    "def ma(price, window):\n",
    "    # window 为滑动窗口，即均线计算的窗口长度\n",
    "    return price.rolling(window).mean()\n",
    "\n",
    "five_ma = ma(ClosePrice, 5)   \n",
    "ten_ma = ma(ClosePrice, 10)\n",
    "signal= (five_ma-ten_ma)/ten_ma  "
   ]
  },
  {
   "cell_type": "markdown",
   "id": "822778a0-6ca3-4600-b931-401b6e1317c2",
   "metadata": {},
   "source": [
    "## 3.交易规则"
   ]
  },
  {
   "cell_type": "markdown",
   "id": "ff4f795b-51b0-4b4e-9abd-0d4dab775766",
   "metadata": {},
   "source": [
    "在交易中，使用什么价格进行撮合交易是我们关心的问题，是开盘价、收盘价、还是别的？这里以开盘价为例："
   ]
  },
  {
   "cell_type": "markdown",
   "id": "c9eea96c-3a97-43ff-8c5b-1752bdd9c921",
   "metadata": {},
   "source": [
    "<center><img src=\"images/trade_rules.png\" alt=\"images/trade_rules.png\" width=\"600\"></center>"
   ]
  },
  {
   "cell_type": "code",
   "execution_count": 5,
   "id": "3e6c5372-7aed-44a3-a953-927e77f5fd6b",
   "metadata": {},
   "outputs": [],
   "source": [
    "import numpy as np\n",
    "def deal(signal, dates, start_date, end_date, open_price, maxlookback=50):\n",
    "    \"\"\"\n",
    "                    -----------------------------------------------------------------------------\n",
    "    time                |...|      idx-1      |      idx       |      idx+1       |\n",
    "                    -----------------------------------------------------------------------------\n",
    "                        |   |                 |     dates      |                  |\n",
    "                    -----------------------------------------------------------------------------\n",
    "    signal               |...|     signal     |                |       ...        |\n",
    "                    -----------------------------------------------------------------------------\n",
    "    Openprice trade     |...|                 |   OpenPrice    |     post_open    |\n",
    "                    -----------------------------------------------------------------------------\n",
    "    \"\"\"\n",
    "    # 选择起始日期 - 终止日期\n",
    "    start_idx = np.where(dates>=start_date)[0][0]\n",
    "    end_idx = np.where(dates>end_date)[0][0]\n",
    "    idx = np.arange(start_idx+maxlookback, end_idx)\n",
    "    \n",
    "    # 重新采样dates、signal\n",
    "    resample_dates = dates[idx]\n",
    "    resample_signal = signal.iloc[idx-1,:]                                \n",
    "\n",
    "    # 对信号进行归一化，变成权重\n",
    "    scaled_resample_wgts = (resample_signal.T / (np.nansum(np.abs(resample_signal), axis=1) + 1e-20)).T\n",
    "\n",
    "    \n",
    "    # 计算交易价格和收益率\n",
    "    open_price = pd.DataFrame(open_price).fillna(method='ffill').values   \n",
    "    open_price = open_price[idx]\n",
    "    post_open = np.nan * np.zeros_like(open_price)\n",
    "    post_open[:-1] = open_price[1:]\n",
    "    resample_return = post_open/open_price - 1\n",
    "    resample_tradeprice = open_price\n",
    "    \n",
    "    return resample_return, resample_tradeprice, scaled_resample_wgts, resample_dates\n"
   ]
  },
  {
   "cell_type": "code",
   "execution_count": 6,
   "id": "f8d82413-fc6c-49d9-9007-245b6b020958",
   "metadata": {},
   "outputs": [],
   "source": [
    "resample_return, resample_tradeprice, scaled_resample_wgts, resample_dates = deal(signal,\n",
    "                                                                                 dates=dates, \n",
    "                                                                                 start_date='2010-01-01',\n",
    "                                                                                 end_date = '2020-01-01',\n",
    "                                                                                 open_price=OpenPrice,\n",
    "                                                                                 maxlookback=50)"
   ]
  },
  {
   "cell_type": "markdown",
   "id": "678aebea-b7dc-462e-9828-0a955e82c1ad",
   "metadata": {},
   "source": [
    "## 4.评估"
   ]
  },
  {
   "cell_type": "markdown",
   "id": "4d3e86fd-6781-4b72-88cc-40ef97c98fff",
   "metadata": {},
   "source": [
    "### 4.1 收益率PNL"
   ]
  },
  {
   "cell_type": "markdown",
   "id": "4d1f5bab-ebb6-42e5-822b-600b29da7444",
   "metadata": {},
   "source": [
    "计算盈亏PNL(Profit&Loss)情况："
   ]
  },
  {
   "cell_type": "code",
   "execution_count": 48,
   "id": "a2a7148a-5e18-4abf-bfbf-3340186f83a2",
   "metadata": {},
   "outputs": [],
   "source": [
    "pnl = resample_return * scaled_resample_wgts      # 盈亏=收益率 * 归一化后的信号权重   \n",
    "pnl = pnl.sum(axis=1)\n",
    "cpnl = np.cumsum(pnl)"
   ]
  },
  {
   "cell_type": "markdown",
   "id": "61c635ff-aca0-450c-b6f5-5624616b0c45",
   "metadata": {},
   "source": [
    "考虑手续费为万1时的盈亏(PNL)情况:"
   ]
  },
  {
   "cell_type": "code",
   "execution_count": 49,
   "id": "c607ff65-e1a6-42fb-a00f-3adc204adcec",
   "metadata": {},
   "outputs": [],
   "source": [
    "pre_scaled_resample_wgts = scaled_resample_wgts.shift(1)     #计算昨日权重\n",
    "chg = scaled_resample_wgts - pre_scaled_resample_wgts        #计算权重变化\n",
    "turnover = np.nansum(np.nan_to_num(np.abs(chg)), axis=1)        #换手率 = |权重变化|，nan值变为0，再求和\n",
    "avg_turnover = np.nanmean(turnover)"
   ]
  },
  {
   "cell_type": "code",
   "execution_count": 50,
   "id": "f2768227-f333-49c9-ad07-e78a5b7de2e1",
   "metadata": {},
   "outputs": [],
   "source": [
    "cost = 0.001           \n",
    "net_pnl = pnl - cost * turnover     #盈亏-手续费*换手率\n",
    "net_cpnl = np.cumsum(net_pnl)"
   ]
  },
  {
   "cell_type": "markdown",
   "id": "b8af0365-7b86-4032-869c-f93e91fb64fc",
   "metadata": {},
   "source": [
    "### 4.2 夏普比率"
   ]
  },
  {
   "cell_type": "code",
   "execution_count": 51,
   "id": "39afbab3-4980-424b-91c8-603ae2f4e6c4",
   "metadata": {},
   "outputs": [],
   "source": [
    "sharpe =  np.sqrt(252) * np.nanmean(net_pnl) / np.nanstd(net_pnl) "
   ]
  },
  {
   "cell_type": "markdown",
   "id": "bea3e4ae-b0db-41d1-8172-5389dce4a0a7",
   "metadata": {},
   "source": [
    "### 4.3 损失回撤"
   ]
  },
  {
   "cell_type": "code",
   "execution_count": 52,
   "id": "c60b28ba-9a00-41fe-915c-52fe8e2fd1d8",
   "metadata": {},
   "outputs": [],
   "source": [
    "def drawdown(cpnl):\n",
    "    _cpnl = cpnl.values * np.ones((len(cpnl), len(cpnl)))\n",
    "    _cpnl = np.tril(_cpnl)\n",
    "    max_cpnl = np.nanmax(_cpnl, axis=1)\n",
    "    return pd.Series(cpnl - max_cpnl, index=cpnl.index)\n",
    "\n",
    "\n",
    "drawdown = drawdown(cpnl)\n",
    "max_drawdown = round(np.abs(np.min(drawdown)), 4)"
   ]
  },
  {
   "cell_type": "markdown",
   "id": "7884fb58-27d5-47d3-acba-0c70847d8bff",
   "metadata": {},
   "source": [
    "### 4.4 可视化信号表现"
   ]
  },
  {
   "cell_type": "code",
   "execution_count": 53,
   "id": "950fd1b4-c37a-4e1b-8d66-b7ee9f316972",
   "metadata": {},
   "outputs": [
    {
     "data": {
      "image/png": "[encoded data removed]",
      "text/plain": [
       "<Figure size 1200x600 with 2 Axes>"
      ]
     },
     "metadata": {},
     "output_type": "display_data"
    }
   ],
   "source": [
    "import matplotlib.pyplot as plt\n",
    "figure, ax = plt.subplots(nrows=2, ncols=1, figsize=(12,6))\n",
    "\n",
    "# 绘制收益率PNL曲线\n",
    "pnl = np.zeros(len(cpnl)+1)\n",
    "pnl[1:] = cpnl\n",
    "pnl_line = ax[0].plot(pnl, color='b', linewidth=2, label='pnl')\n",
    "\n",
    "net_pnl = np.zeros(len(net_cpnl)+1)\n",
    "net_pnl[1:] = net_cpnl\n",
    "net_pnl_line = ax[0].plot(net_pnl, color='r', linewidth=2, label='net_pnl')\n",
    "\n",
    "dates = resample_dates\n",
    "step = len(dates)/20\n",
    "space = [i for i in np.arange(len(dates)) if i%step==0]\n",
    "dates_str = [i.split(' ')[0] for i in dates[space]]\n",
    "if len(np.unique(dates_str)) <= 3:\n",
    "    step = int(len(dates)/5)\n",
    "    space = [i for i in np.arange(len(dates)) if i%step==0]\n",
    "    dates_str = [i for i in dates[space]]\n",
    "\n",
    "ax[0].set_ylabel('PNL')\n",
    "ax[0].set_title('Signal Perfomance')\n",
    "ax[0].legend(loc=2)\n",
    "ax[0].grid()\n",
    "\n",
    "# 绘制回撤曲线\n",
    "ax[1].bar(drawdown.index, height=drawdown, color='red')\n",
    "ax[1].set_xticks(space, dates_str, rotation=45)\n",
    "ax[1].set_xlabel('Date')\n",
    "ax[1].set_ylabel('Drawdown')\n",
    "plt.show()\n"
   ]
  },
  {
   "cell_type": "markdown",
   "id": "f5023ec8-b233-45f0-87a6-185100fe27b7",
   "metadata": {},
   "source": [
    "## 5. 向量式回测系统的优缺点\n",
    "\n",
    "### 优点\n",
    "\n",
    "- 快速： 向量化回测系统实现回测的速度非常快，1000多只股票和1000多个时间戳的回测可以在1秒内完成。这种高效的框架有利于策略师在短时间内开发和分析交易理念。\n",
    "\n",
    "- 矩阵计算友好： 向量化回测系统允许在策略产生和性能统计期间进行矩阵计算。相比之下，事件驱动的回测器在序列中隔离市场数据，给阵列计算带来困难。\n",
    "\n",
    "- 从信号处理角度看待策略：向量化回测系统使用框架式数据或面板式数据，帮助策略师从信号处理的角度来考虑数据。特别是，一些操作，如随着时间的推移增强或减弱信号，如果使用向量化回测系统就会变得很方便。\n",
    "\n",
    "### 缺点\n",
    "1. 当未来的数据被意外地包括在模拟中的某个点上，而该数据实际上是不可用的，那么回测系统就会被引入前瞻性偏差（Look-ahead bias）。[1]而当策略师在代码中操作向量时，超前指数N+k，即超出当前N，将带来前瞻偏差。这导致了一些不容易察觉的问题。\n",
    "2. 订单类型问题是向量化回测器的另一个缺点。市场订单和限价订单是常见的订单类型。而向量式回测器只模拟TWAP或VWAP的交易，这些都是之前估计的交易价格。\n"
   ]
  },
  {
   "cell_type": "markdown",
   "id": "05979a6c-8767-4936-892a-2e8974814a7a",
   "metadata": {},
   "source": [
    "## 参考\n",
    "\n",
    "1. Michael L. Halls-Moore, Strategies Optimisation, *Successful Algorithm Trading* , Chapter 3\n",
    "2. 《高效的无效》Efficiently Inefficient, Lasse Heje Pedersen, 2021"
   ]
  }
 ],
 "metadata": {
  "kernelspec": {
   "display_name": "Python 3 (ipykernel)",
   "language": "python",
   "name": "python3"
  },
  "language_info": {
   "codemirror_mode": {
    "name": "ipython",
    "version": 3
   },
   "file_extension": ".py",
   "mimetype": "text/x-python",
   "name": "python",
   "nbconvert_exporter": "python",
   "pygments_lexer": "ipython3",
   "version": "3.9.13"
  }
 },
 "nbformat": 4,
 "nbformat_minor": 5
}
