{
 "cells": [
  {
   "cell_type": "markdown",
   "id": "97fe5cc1-dd1b-4e94-83f4-d8960526433e",
   "metadata": {},
   "source": [
    "# 案例：股票量化投资"
   ]
  },
  {
   "cell_type": "markdown",
   "id": "3c30e2fc-d780-463c-83c7-427462066752",
   "metadata": {},
   "source": [
    "To-do"
   ]
  },
  {
   "cell_type": "code",
   "execution_count": null,
   "id": "50c632ae-a5f1-467a-af4e-1bd5ed94d3ea",
   "metadata": {},
   "outputs": [],
   "source": []
  }
 ],
 "metadata": {
  "kernelspec": {
   "display_name": "Python 3 (ipykernel)",
   "language": "python",
   "name": "python3"
  },
  "language_info": {
   "codemirror_mode": {
    "name": "ipython",
    "version": 3
   },
   "file_extension": ".py",
   "mimetype": "text/x-python",
   "name": "python",
   "nbconvert_exporter": "python",
   "pygments_lexer": "ipython3",
   "version": "3.9.13"
  }
 },
 "nbformat": 4,
 "nbformat_minor": 5
}
