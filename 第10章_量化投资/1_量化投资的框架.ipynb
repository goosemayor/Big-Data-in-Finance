{
 "cells": [
  {
   "cell_type": "markdown",
   "id": "caa43050-8e9b-4bca-8c94-5e3cf39ce8db",
   "metadata": {},
   "source": [
    "# 量化投资的框架"
   ]
  },
  {
   "cell_type": "markdown",
   "id": "20b82c31-57cb-42a8-8ce0-f3cd6f701e4b",
   "metadata": {},
   "source": [
    "## 1. 程序化交易的概念"
   ]
  },
  {
   "cell_type": "markdown",
   "id": "f4a2b057-d440-4e66-af34-c4712f8376e1",
   "metadata": {},
   "source": [
    "\n",
    "程序化交易，是一种将交易策略交给计算机进行处理、判断并执行的交易方式(朱伊琳，2012)。程序化交易最大的优点，就是可以在某种程度上规避人的主观判断，从而极大地降低了投资的风险。程序化交易在世界范围内的应用越来越广泛。"
   ]
  },
  {
   "cell_type": "markdown",
   "id": "dd4e7d3c-0035-4f79-91a7-a7261254d704",
   "metadata": {},
   "source": [
    "尽管程序化交易是近年来国际市场的热门话题,但对此一直缺乏简洁而清晰的定义，并且经常与算法交易(AlgorithmicTrading)和高频交易(HighFrequencyTrading)等概念混淆。关于这些相关术语，目前并没有完全一致的准确定义，但相对而言有比较常用的适用范围。"
   ]
  },
  {
   "cell_type": "markdown",
   "id": "98682359-d50b-4e2b-9f2e-5d86f1ec29c1",
   "metadata": {},
   "source": [
    "在程序化交易中加入一些带有特定目的的算法，就叫做算法交易。通常认为，算法交易可以算作程序化交易的一个分支。欧盟《欧洲金融工具市场法规》将算法交易定义为用计算机算法对于交易触发、时间选择、价格、委托量以及如何止损等因素进行自动决策的交易，其中仅有少量或完全没有人为干预。"
   ]
  },
  {
   "cell_type": "markdown",
   "id": "6d485fc1-e578-44af-821d-d466a8700152",
   "metadata": {},
   "source": [
    "程序化交易的特点就是可以快速地执行交易，并且可以进行资金周转，为了达到这个目的，大多数的程序化交易，都会使用算法交易系统，通过算法程序来分析报价，从而做出交易决策，在不需要人为干预的情况下高效完成交易。如果交易员在同一个交易日里用程序或算法进行频繁交易，这被称为“高频交易”。"
   ]
  },
  {
   "cell_type": "markdown",
   "id": "cc21a891-1915-4f52-8c12-d77c27e93277",
   "metadata": {},
   "source": [
    "## 2.几种交易策略类型"
   ]
  },
  {
   "cell_type": "markdown",
   "id": "a9a97d67-bbd8-4725-af4f-d8a71a1bd8b9",
   "metadata": {},
   "source": [
    "不同的交易策略有不同的特点(见表1)。图中分析了基本面量化投资、统计套利和高频交易三种不同的交易策略的特点。基本面量化投资基于经济、资金与统计数字。统计套利基于套利关系与统计数字。高频交易基于统计数字、金融工程与信息处理。三种交易策略的流动率不同，高频交易的流动率最高，基本面量化投资的流动率最低。基本面量化投资的容量最高，高频交易的容量低，统计套利处于两者之中。高频交易虽然快，但不确定性也高，带来了更高的系统性风险;传统的量化投资相比而言更可靠。"
   ]
  },
  {
   "cell_type": "markdown",
   "id": "8c8a6474-6747-481d-b53d-d06ccaf30223",
   "metadata": {},
   "source": [
    "<center><b>表1 不同交易策略的特点</b></center>\n",
    "\n",
    "| |基本面量化|统计套利|高频交易|\n",
    "|---|---|---|---|\n",
    "|**基于**|经济、交易数据、统计|套利关系、统计|金融工程、信息处理、统计|\n",
    "|**交易频率**|几天到几个月|几个小时到几天|几个小时到分钟|\n",
    "|**容量**|高| 中| 低|\n",
    "|**谁决定交易**|策略|策略，但有些订单可能无法完成|市场|\n",
    "|**回测**|可靠|基于交易成本估算|不确定|"
   ]
  },
  {
   "cell_type": "markdown",
   "id": "cd7bd5f8-274d-4c7f-9913-b530f691daf4",
   "metadata": {},
   "source": [
    "## 3.量化投资的框架"
   ]
  },
  {
   "cell_type": "markdown",
   "id": "39e2afea-bd39-4a24-ba4c-5cc43b11030c",
   "metadata": {},
   "source": [
    "我们这里所讨论的量化投资，主要是指上述表格中的基本面量化投资。这一类的投资框架在设计时通常使用C++、Python或者Java等成熟的、生态丰富的编程语言。一般化的设计流程如下："
   ]
  },
  {
   "cell_type": "markdown",
   "id": "2eb4e03a-b040-49d4-a2d1-65201eb1e708",
   "metadata": {},
   "source": [
    "1. 设计或选择一个回测框架：设计一个满足自身交易需求的回测系统；或者采用第三方的开源回测框架，例如Backtrader、PyAlgoTrade和Zipline。每个框架都有其自身的优点和缺点，因此选择最适合需求的框架。\n",
    "\n",
    "2. 准备数据：确保数据干净并正确格式化。这可能涉及从外部源下载数据或清理已经拥有的数据。\n",
    "\n",
    "3. 编写策略：这是回测系统的核心。确保策略定义明确并且有良好的文档记录。\n",
    "\n",
    "4. 回测策略：使用回测的框架在历史数据上回测您的策略。这将帮助评估其性能并识别任何问题。\n",
    "\n",
    "5. 优化策略：使用回测结果来优化您的策略。这可能涉及调整参数或更改基础逻辑。\n",
    "\n",
    "6. 部署策略：一旦对策略满意，就在实时交易环境中部署它。"
   ]
  },
  {
   "cell_type": "markdown",
   "id": "b4452e7b-9fc5-4af0-ad84-4044f2fd8c8c",
   "metadata": {},
   "source": [
    "参考：\n",
    "1. Lasse Heje Pedersen.Efficiently Inefficient[M].Princeton University Press,2015.\n",
    "2. 朱伊琳.数字时代下程序化交易的前景与发展[J].全国商情·理论研究.2012,(25):89-90."
   ]
  }
 ],
 "metadata": {
  "kernelspec": {
   "display_name": "Python 3 (ipykernel)",
   "language": "python",
   "name": "python3"
  },
  "language_info": {
   "codemirror_mode": {
    "name": "ipython",
    "version": 3
   },
   "file_extension": ".py",
   "mimetype": "text/x-python",
   "name": "python",
   "nbconvert_exporter": "python",
   "pygments_lexer": "ipython3",
   "version": "3.9.13"
  }
 },
 "nbformat": 4,
 "nbformat_minor": 5
}
