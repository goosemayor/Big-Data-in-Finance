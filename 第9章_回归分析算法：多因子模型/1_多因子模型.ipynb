{
 "cells": [
  {
   "cell_type": "markdown",
   "id": "08df0648-5c36-4bca-bb96-5d36a5254b1d",
   "metadata": {},
   "source": [
    "# 多因子模型"
   ]
  },
  {
   "cell_type": "markdown",
   "id": "32d8a736-ba94-4580-85df-7499dfff420b",
   "metadata": {},
   "source": [
    "## 1. 资产定价领域\n",
    "自20世纪70年代以来，实证资定价研究已经走过了近50年的发展。从CAPM到如今家喻户晓的Fama-French和q-factor 等因子模型。从“Factor Zoo”再到“Factor War”，资产定价领域已经拥有了浩如烟海的多因子建模学术文献。\n"
   ]
  },
  {
   "cell_type": "markdown",
   "id": "9c6673d2-f45b-4104-af3e-3337ecf91e64",
   "metadata": {},
   "source": [
    "传统的实证资产定价是由低维线性计量方法主导的，适合于近一般均衡状态(near general equilibrium)的经济分析和预测，而擅长处理高维问题和非线性关系等高度复杂性系统(complexitysystem)的机器学习方法无疑为资产定价领域注入了鲜活的血液。"
   ]
  },
  {
   "cell_type": "markdown",
   "id": "ec71afec-6ebc-483e-9781-3aa5236093e3",
   "metadata": {},
   "source": [
    "量化基金已经逐渐跻身到美国投资市场的主流，顶尖的量化机构也都形成了自己鲜明的特色，如以海外 AQR 为代表的学术量化派；以WorldQuant为代表的因子数据挖掘派和以西蒙斯的Medallion(大奖章)基金为代表的高频科技派等。不管哪种流派，背后都是海量的数据和神秘的模型。"
   ]
  },
  {
   "cell_type": "markdown",
   "id": "129e84cf-b0b8-42d4-ae3c-f4989ef4a6e7",
   "metadata": {},
   "source": [
    "\n",
    "如果说投资是一场冒险，那么以数据和模型为依托的量化投资就是一场科学的冒险。相比起挑选主动基金时辨人的风险，量化投资可以用更加科学严谨的模型来确保投资风格不漂移，规避主观情绪波动带来的非理性操作。尽管机器学习算法在图像识别和语音识别等方面取得了颠覆性突破，90%以上的识别准确率确实让人热血澎湃，但我们要深刻认识到资产定价与简单预测问题的本质区别，要清楚金融数据与图像、信号等数据的差异性。\n"
   ]
  },
  {
   "cell_type": "markdown",
   "id": "80939c41-7ae1-45bb-839a-4a8a5be990cf",
   "metadata": {},
   "source": [
    "## 2. 多因子模型"
   ]
  },
  {
   "cell_type": "markdown",
   "id": "67148651-7d9c-49a1-84ee-ac1eba45c282",
   "metadata": {},
   "source": [
    "自Fama and French (1993)发表并提出第一个多因子模型以来，学术界对多因子模型的研究经历了近30年。其间，很多新的模型先后被提出，它们对人们认知市场产生了深远的影响。\n",
    "<center><b>表1 主流多因子模型</b></center>\n",
    "\n",
    "|模型|出处|所含因子|\n",
    "|---|---|---|\n",
    "|Fama - French 三因子| Fama and French（1993）|市场、规模、价值|\n",
    "|Carhart 四因子| Carhart（1997）|市场、规模、价值、动量|\n",
    "|Novy - Marx 四因子| Novy-Marx（2013）|市场、价值、动量、盈利|\n",
    "|Fama - French 五因子| Fama and French（2015）|市场、规模、价值、盈利、投资|\n",
    "|Hou - Xue - Zhang 四因子| Hou et al.（2015）|市场、规模、盈利、投资|\n",
    "|Stambaugh - Yuan 四因子|Stambaugh and Yuan（2017） |市场、规模、管理、表现|\n",
    "|Daniel - Hirshleifer - Sun 三因子| Daniel et al.（2020）|市场、长周期行为、短周期行为|\n"
   ]
  },
  {
   "cell_type": "markdown",
   "id": "76c117a8-1ccd-487e-af4f-3c71e25c71c1",
   "metadata": {},
   "source": [
    "在多因子模型被提出之前，CAPM是资产定价的第一范式。然而，自20纪70年代以来，学者们逐渐发现按照某种风格\"打包\"的股票能够战胜市场。这其中最值得一提的是Basu(1977)发现的盈利市值比(EP)效应和Banz(1981)发现的小市值效应。继EP之后，账面市值比(BM)和债务市值比(debt to market value of equity, DM)效应也被发现。虽然单一异象被发现后都对CAPM提出了挑战，但它们并没有形成合力，因此人们并未对CAPM产生太大的质疑，直到Fama and French(1992)横空出世，它整合了之前被提出的多种异象，彻底颠覆了人们对CAPM的看法。\n",
    "\n",
    "当然，由于CAPM在数学上足够简单优雅，且在业务上非常容易解释(风险来自对市场的暴露)，因此它还是资产定价的一个很好的出发点，只是人们再也无法忽视不能被CAPM解释的其他系统性风险因子了。\n"
   ]
  },
  {
   "cell_type": "markdown",
   "id": "f91f0d7f-51d0-4e12-9246-1133df5106b6",
   "metadata": {},
   "source": [
    "## 3. Fama-Frence三因子模型"
   ]
  },
  {
   "cell_type": "markdown",
   "id": "9be96300-81dd-42f3-a243-84bcddf12dfd",
   "metadata": {},
   "source": [
    "\n",
    "<center><img src=\"images/OIP-C.jpeg\" alt=\"images/OIP-C.jpeg\" width=\"400\"></center>"
   ]
  },
  {
   "cell_type": "markdown",
   "id": "45b0276f-55c7-4050-9469-798780e3bc72",
   "metadata": {},
   "source": [
    "想要摒弃一个旧模型，唯有提出一个更好的新模型。Fama and French(1993)在CAPM的基础上，加入了价值(High-Minus-Low, HML)和规模(Small-Minus-Big, SMB)两个因子，提出了三因子模型，它也是多因子模型的开山鼻祖：\n"
   ]
  },
  {
   "cell_type": "markdown",
   "id": "2a4ff01f-cc6e-4e40-9867-d4f111c9594c",
   "metadata": {},
   "source": [
    "$$\n",
    "E[R_i]-R_f = \\beta_{i, MKT}(E[R_M]-R_f)+\\beta_{i,SMB}E[R_{SMB}]+\\beta_{i,HML}E[R_{HML}]\n",
    "$$"
   ]
  },
  {
   "cell_type": "markdown",
   "id": "bda9f3e5-fa62-4447-833a-f3702730af45",
   "metadata": {},
   "source": [
    "$E[R_i]$表示股票$i$的预期收益率， $R_f$为无风险收益率， $E[R_M]$为市场组合预期收益率，$E[R_{SMB}]$和$E[R_{HML}]$ 分别为规模因子(SMB)以及价值因子(HML)的预期收益率，\n",
    "$\\beta_{i, MKT}$、 $\\beta_{i,SMB}$以及 $\\beta_{i,HML}$为个股$i$在相应因子上的暴露。\n"
   ]
  },
  {
   "cell_type": "markdown",
   "id": "0eaef166-2545-4357-8f89-ebd9ae351d9f",
   "metadata": {},
   "source": [
    "为构建价值和规模因子，Fama and French(1993)选择了 BM和市值两个公司指标并用它们进行了如图所示的23独立双重排序。在排序时，以纽约证券交易所(Ne York Stock Exchange,NYSE)(下面简称纽交所)中上市公司的市值中位数为界，把NYSE、纳斯达克(NASDAQ)以及美国证券交易所(American Stock Exchange，AMEX)的上市公司分成小市值(Small)和大市值(Big)两组。类似的，以 NYSE 中上市公司 BM 的30%和70%分位数为界，把这三大交易所的上市公司分成三组:BM 高于 70%分位数的为High 组、BM低于 30% 分位数的为Low 组、位于中间的为Middle组。通过以上划分后，按照市值和BM 各自所属的组别，所有股票被分到一共6(2x3=6)个组中，记为 S/H、S/M、S/L、B/H、B/M及B/L。将每组中的股票收益率按市值加权就得到六个投资组合。最终，Fama and French(1993)使用如下方法构建了规模和价值两个因子:\n"
   ]
  },
  {
   "cell_type": "markdown",
   "id": "d08834f2-bb2f-4e3f-9984-6ed2d8e25402",
   "metadata": {},
   "source": [
    "\n",
    "$$\n",
    "SMB=(S/H+S/M+S/L)-(B/H+B/M+B/L) \\\\\n",
    "HML=2(S/H+B/H)-(S/L+B/L) \n",
    "$$\n"
   ]
  },
  {
   "cell_type": "markdown",
   "id": "4da06662-11c2-4fde-988a-dc6e6cbb4ddb",
   "metadata": {},
   "source": [
    "<center><img src=\"images/BM.jpg\" alt=\"images/BM.jpg\" width=\"1000\"></center>\n",
    "<center>图1 BM和市值双重排序</center>"
   ]
  },
  {
   "cell_type": "markdown",
   "id": "ac479da4-b345-464a-9218-a973e605d571",
   "metadata": {},
   "source": [
    "不难看出，规模因子是三个小市值组合S/H、S/M及S/L的等权平均减去三个大市值组合B/H、B/M及B/L的等权平均；而价值因子是S/H和B/H两个高BM组合的两组合的等权平均。在每年的六月末，Fama and French(1993）使用上一财年最新的财务数据对股票重新排序并对这两个因子进行再平衡。Fama-French三因子模型被提出后逐步取代了CAPM成为资产定价的第一范式。而以上述双重划分以及以此衍生出来的多重划分来构建因子组合也成为学术界竞相模仿的对象。\n"
   ]
  },
  {
   "cell_type": "markdown",
   "id": "0bb1b6e8-8b04-4c8e-a519-55b20070cd0c",
   "metadata": {},
   "source": [
    "作为第一个被提出的多因子模型，Fama-French三因子模型被反复进行检验。Daviset al.(2000)使用自1927年开始的数据模型；Fama and French(1998)使用其他国家的股票市场检验该模型；Fama and French(2008）使用三因子模型考察了那些无法被CAPM解释的异象。除此之外，Fama and French(1996）还尝试从风险的角度解释了SMB和HML两个因子，并猜想它们和上市公司的财务困境风险有关。"
   ]
  },
  {
   "cell_type": "markdown",
   "id": "8909b592-e400-4ad8-b543-4265eee80fe1",
   "metadata": {},
   "source": [
    "## 参考\n",
    "1. 《机器学习与资产定价》Machine Learning in Asset Pricing, Stefan Nagel, 2021\n",
    "2. 《量化风险管理》Quantitative Risk Management,Alexander J.McNell, 2020\n",
    "3. 《因子投资：方法与实践》石川等, 2020"
   ]
  }
 ],
 "metadata": {
  "kernelspec": {
   "display_name": "Python 3 (ipykernel)",
   "language": "python",
   "name": "python3"
  },
  "language_info": {
   "codemirror_mode": {
    "name": "ipython",
    "version": 3
   },
   "file_extension": ".py",
   "mimetype": "text/x-python",
   "name": "python",
   "nbconvert_exporter": "python",
   "pygments_lexer": "ipython3",
   "version": "3.9.13"
  }
 },
 "nbformat": 4,
 "nbformat_minor": 5
}
