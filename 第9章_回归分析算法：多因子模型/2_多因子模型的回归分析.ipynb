{
 "cells": [
  {
   "cell_type": "markdown",
   "id": "17af2597-301f-44e6-865a-ee491fe5fd49",
   "metadata": {},
   "source": [
    "# 多因子模型的回归jian y"
   ]
  },
  {
   "cell_type": "markdown",
   "id": "d128635f-f468-439f-b4df-bf23ba3c65d6",
   "metadata": {},
   "source": [
    "资产预期（超额）收益率和因子预期收益率之间满足以下关系：\n",
    "\n",
    "$$\n",
    "E[R_i^e] = \\alpha_i + \\beta_i^{'}\\lambda\n",
    "$$\n",
    "\n",
    "其中$R_i^{e}$代表资产$i$的超额收益，$\\beta_i$为资产$i$的$K$维因子暴露向量；$\\lambda$为$K$维度因子预期收益率向量。\n",
    "多因子模型研究的核心问题是资产预期收益率在截面上——即不同的资产之间——为什么会有差异。如果一个资产在因子上的暴露$\\beta_i$高，则它的预期收益$E[R_i^{e}]$也应该更高。"
   ]
  },
  {
   "cell_type": "markdown",
   "id": "e86b33b4-9c41-4285-9075-168287fec71b",
   "metadata": {},
   "source": [
    "<center><img src=\"images/regression.jpg\" alt=\"images/regression.jpg\" width=\"600\" height=\"228\"></center>\n",
    "<center>图1 截面上股票预期收益率和风险暴露的关系</center>"
   ]
  },
  {
   "cell_type": "markdown",
   "id": "71043522-5129-4bb2-98e4-670e749762ee",
   "metadata": {},
   "source": [
    "上图中，当模型不能完美的满足时，资产的预期收益率和模型算出的$\\beta_i\\lambda$之间就会存在误差，即$\\alpha_i$。"
   ]
  },
  {
   "cell_type": "markdown",
   "id": "ed74901b-bf0b-408b-ac3c-c8d183c7e2a5",
   "metadata": {},
   "source": [
    "## 时序回归"
   ]
  },
  {
   "cell_type": "markdown",
   "id": "8a0a5398-da4f-449d-8c4d-6cd2a94ec110",
   "metadata": {},
   "source": [
    "时间序列回归(time-series regression)简单直接，Black et al.(1972)最早使用它来检验CAPM。这种方法在回归时使用因子收益率作为自变量(independent variable)或解释变量(explanatory variable)，以资产的超额收益率作为因变量(dependent variable)或被解释变量(explained variable)。"
   ]
  },
  {
   "cell_type": "markdown",
   "id": "62cdbae2-1112-4af1-badb-d76c2fb24f7b",
   "metadata": {},
   "source": [
    "令$\\lambda$表示$t$期因子收益率向量，$R_{it}^{e}$为资产$i$在$t$期的超额收益率，前者为自变量，后者为因变量，这二者在时序满足如下线性关系:\n",
    "\n",
    "$$\n",
    "R_{it}^{e} = \\alpha_i + \\beta_i^{'}\\lambda_t+\\epsilon_t, t=1,2,\\dots,T\n",
    "$$"
   ]
  },
  {
   "cell_type": "markdown",
   "id": "2f03d35a-dfb1-4ea5-92a1-c1fa60aa34d3",
   "metadata": {},
   "source": [
    "对于每个资产使用简单最小二乘法（OLS）来对参数进行估计，回归得到资产在因子上的暴露$\\hat{\\beta_i}$，截距$\\hat{\\alpha_i}$，以及残差$\\hat{\\epsilon_{it}}$。需要说明的是，<u>在使用时间序列回归时，需要对每个资产分别独立使用多因子模型进行时序回归</u>。"
   ]
  },
  {
   "cell_type": "markdown",
   "id": "1dd36744-b6c7-4a3f-85e4-78291d56d827",
   "metadata": {},
   "source": [
    "$$\n",
    "E[R_i^e]=\\hat{\\alpha_i} + \\hat{\\beta_i}^{'}\\lambda\n",
    "$$"
   ]
  },
  {
   "cell_type": "markdown",
   "id": "0a9d5c6e-33f8-48df-b601-6c2b33108c90",
   "metadata": {},
   "source": [
    "时间序列回归使用方便，但是它的前提是我们已经知道因子收益率$\\lambda_t$。对于处理基于高频率的财务数据、价格数据等比较方便，但是对于处理低频的宏观经济因子，如GDP、CPI以及利率就无法施展。"
   ]
  },
  {
   "cell_type": "markdown",
   "id": "49539993-a78f-401d-b7dc-db509ce746e8",
   "metadata": {},
   "source": [
    "使用截面回归不要求因子的收益率时序已知，因此应用更广泛。进一步，在1973年，Eugene Fama和James MacBeth提出了Fama-MacBeth二步回归法，改进了截面回归，详见其论文或者《因子投资：方法与实践》。"
   ]
  },
  {
   "cell_type": "markdown",
   "id": "b13e2362-856c-4196-8d5d-fd44539e6e71",
   "metadata": {},
   "source": [
    "## 参考\n",
    "1. 《因子投资：方法与实践》石川等, 2020\n",
    "2. 《高效的无效》Efficiently Inefficient, Lasse Heje Pedersen, 2021\n",
    "3. Fama, E.F. and J. D. MacBeth (1973). Risk, return, and equilibrium: Empirical tests. Journal of Political Economy 81(3), 607-636.\n",
    "4. Multi-Factor models and Fama-French：[coursera](https://www.coursera.org/lecture/advanced-portfolio-construction-python/multi-factor-models-and-fama-french-iVahP?redirectTo=%2Flearn%2Fadvanced-portfolio-construction-python%3Faction%3Denroll)\n",
    "5. FamaFrench in  Github: https://christianjauregui.github.io/famafrench/gettingstarted/gettingstarted.html"
   ]
  },
  {
   "cell_type": "code",
   "execution_count": null,
   "id": "77471af9-8e33-41ee-ac3b-9f00850a4146",
   "metadata": {},
   "outputs": [],
   "source": []
  }
 ],
 "metadata": {
  "kernelspec": {
   "display_name": "Python 3 (ipykernel)",
   "language": "python",
   "name": "python3"
  },
  "language_info": {
   "codemirror_mode": {
    "name": "ipython",
    "version": 3
   },
   "file_extension": ".py",
   "mimetype": "text/x-python",
   "name": "python",
   "nbconvert_exporter": "python",
   "pygments_lexer": "ipython3",
   "version": "3.9.13"
  }
 },
 "nbformat": 4,
 "nbformat_minor": 5
}
