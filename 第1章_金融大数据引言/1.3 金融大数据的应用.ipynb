{
 "cells": [
  {
   "cell_type": "markdown",
   "id": "54439227-6816-4893-a6ac-ca02f3e72217",
   "metadata": {},
   "source": [
    "# 金融大数据的应用"
   ]
  },
  {
   "cell_type": "markdown",
   "id": "9cfb4764-bf90-4146-ba87-9138448d8dea",
   "metadata": {},
   "source": [
    "## 1. 投资组合应用\n",
    "### [Tiingo](https://www.tiingo.com/)\n",
    "https://www.tiingo.com/\n",
    "<center><img src=\"image/tiingo.png\" alt=\"image/tiingo.png\" width=\"400\"></center>\n",
    "\n"
   ]
  },
  {
   "cell_type": "code",
   "execution_count": null,
   "id": "ea2a41ea-4696-4da2-b573-3d2d58d653ca",
   "metadata": {},
   "outputs": [],
   "source": []
  }
 ],
 "metadata": {
  "kernelspec": {
   "display_name": "Python 3 (ipykernel)",
   "language": "python",
   "name": "python3"
  },
  "language_info": {
   "codemirror_mode": {
    "name": "ipython",
    "version": 3
   },
   "file_extension": ".py",
   "mimetype": "text/x-python",
   "name": "python",
   "nbconvert_exporter": "python",
   "pygments_lexer": "ipython3",
   "version": "3.9.13"
  }
 },
 "nbformat": 4,
 "nbformat_minor": 5
}
